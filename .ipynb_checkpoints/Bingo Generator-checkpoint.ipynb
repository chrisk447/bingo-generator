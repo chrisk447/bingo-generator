{
 "cells": [
  {
   "cell_type": "code",
   "execution_count": 1,
   "metadata": {
    "collapsed": true
   },
   "outputs": [],
   "source": [
    "import numpy as np\n",
    "import matplotlib.pyplot as plt"
   ]
  },
  {
   "cell_type": "code",
   "execution_count": 4,
   "metadata": {
    "collapsed": true
   },
   "outputs": [],
   "source": [
    "def b_gen():\n",
    "    bingo = ['L','O','V','E']\n",
    "    board = []\n",
    "    for num, letter in enumerate(bingo):\n",
    "        row = []\n",
    "        row.append(np.random.choice(range(1,13), 4, replace=False) + num*12)\n",
    "        board.append(row)\n",
    "    return np.array(board).transpose().reshape(4,-1)"
   ]
  },
  {
   "cell_type": "code",
   "execution_count": 5,
   "metadata": {},
   "outputs": [
    {
     "data": {
      "text/plain": [
       "array([[ 7, 14, 27, 44],\n",
       "       [ 6, 22, 30, 45],\n",
       "       [ 1, 17, 31, 47],\n",
       "       [ 5, 19, 32, 43]])"
      ]
     },
     "execution_count": 5,
     "metadata": {},
     "output_type": "execute_result"
    }
   ],
   "source": [
    "b_gen()"
   ]
  },
  {
   "cell_type": "code",
   "execution_count": 6,
   "metadata": {
    "collapsed": true
   },
   "outputs": [],
   "source": [
    "def bingo_caller(size=1):\n",
    "    bingo = [0,1,2,3]\n",
    "    random_array = np.random.choice(range(1,49), size=size, replace=False)\n",
    "    for number in random_array:\n",
    "        if number in range(1,13):\n",
    "            letter = bingo[0]\n",
    "        elif number in range(13,25):\n",
    "            letter = bingo[1]\n",
    "        elif number in range(25,37):\n",
    "            letter = bingo[2]\n",
    "        else:\n",
    "            letter = bingo[3]\n",
    "        return letter, number"
   ]
  },
  {
   "cell_type": "code",
   "execution_count": 7,
   "metadata": {},
   "outputs": [
    {
     "data": {
      "text/plain": [
       "(3, 43)"
      ]
     },
     "execution_count": 7,
     "metadata": {},
     "output_type": "execute_result"
    }
   ],
   "source": [
    "bingo_caller()"
   ]
  },
  {
   "cell_type": "code",
   "execution_count": 36,
   "metadata": {
    "collapsed": true
   },
   "outputs": [],
   "source": [
    "k = 1000\n",
    "counts = np.zeros(k) # counter for how many trials until win\n",
    "\n",
    "for i in range(k):\n",
    "    card = b_gen()\n",
    "    empty_card = np.zeros((4,4))\n",
    "    calls = [] # list of all calls\n",
    "\n",
    "    while ~(empty_card.sum(axis=0)==4).any() or ~(empty_card.sum(axis=1)==4).any():\n",
    "        letter, number = bingo_caller()\n",
    "        if number not in calls:\n",
    "            calls.append(number)\n",
    "            counts[i] += 1\n",
    "        if (card[:,letter] == number).any():\n",
    "            x,y = np.where(card == number)\n",
    "            empty_card[x,y] = True"
   ]
  },
  {
   "cell_type": "code",
   "execution_count": 70,
   "metadata": {},
   "outputs": [
    {
     "data": {
      "image/png": "[encoded data removed]",
      "text/plain": [
       "<matplotlib.figure.Figure at 0xa7f1630>"
      ]
     },
     "metadata": {},
     "output_type": "display_data"
    }
   ],
   "source": [
    "plt.hist(counts, normed=True)\n",
    "plt.show()"
   ]
  },
  {
   "cell_type": "code",
   "execution_count": 68,
   "metadata": {},
   "outputs": [
    {
     "name": "stdout",
     "output_type": "stream",
     "text": [
      "33.467 34.0\n"
     ]
    }
   ],
   "source": [
    "print np.mean(counts), np.median(counts)"
   ]
  },
  {
   "cell_type": "code",
   "execution_count": 88,
   "metadata": {},
   "outputs": [
    {
     "data": {
      "text/plain": [
       "13.687855557393078"
      ]
     },
     "execution_count": 88,
     "metadata": {},
     "output_type": "execute_result"
    }
   ],
   "source": [
    "values, base = np.histogram(counts, bins=48)\n",
    "F = np.cumsum(values)/float(k)\n",
    "F_m = 1 - (1-F)**16\n",
    "E = 1 + sum(1-F_m)\n",
    "E"
   ]
  },
  {
   "cell_type": "code",
   "execution_count": 48,
   "metadata": {},
   "outputs": [
    {
     "data": {
      "image/png": "[encoded data removed]",
      "text/plain": [
       "<matplotlib.figure.Figure at 0xa736780>"
      ]
     },
     "metadata": {},
     "output_type": "display_data"
    }
   ],
   "source": [
    "x = np.sort(counts)/k\n",
    "y = np.arange(1,len(counts)+1)/float(len(counts))\n",
    "plt.plot(x,y, marker='.', linestyle='none')\n",
    "plt.show()"
   ]
  },
  {
   "cell_type": "code",
   "execution_count": 91,
   "metadata": {
    "collapsed": true
   },
   "outputs": [],
   "source": [
    "def bingo_caller2(size=26):\n",
    "    bingo = ['L','O','V','E']\n",
    "    random_array = np.random.choice(range(1,49), size=size, replace=False)\n",
    "    for number in random_array:\n",
    "        if number in range(1,13):\n",
    "            letter = bingo[0]\n",
    "        elif number in range(13,25):\n",
    "            letter = bingo[1]\n",
    "        elif number in range(25,37):\n",
    "            letter = bingo[2]\n",
    "        else:\n",
    "            letter = bingo[3]\n",
    "        print letter, number"
   ]
  },
  {
   "cell_type": "code",
   "execution_count": 92,
   "metadata": {},
   "outputs": [
    {
     "name": "stdout",
     "output_type": "stream",
     "text": [
      "E 43\n",
      "L 8\n",
      "V 32\n",
      "O 23\n",
      "O 17\n",
      "V 34\n",
      "O 22\n",
      "O 13\n",
      "L 1\n",
      "L 3\n",
      "O 20\n",
      "V 26\n",
      "L 7\n",
      "E 44\n",
      "V 28\n",
      "O 24\n",
      "O 16\n",
      "V 33\n",
      "L 9\n",
      "E 48\n",
      "V 30\n",
      "V 31\n",
      "E 47\n",
      "L 11\n",
      "E 39\n",
      "E 45\n"
     ]
    }
   ],
   "source": [
    "bingo_caller2()"
   ]
  }
 ],
 "metadata": {
  "kernelspec": {
   "display_name": "Python 2",
   "language": "python",
   "name": "python2"
  },
  "language_info": {
   "codemirror_mode": {
    "name": "ipython",
    "version": 2
   },
   "file_extension": ".py",
   "mimetype": "text/x-python",
   "name": "python",
   "nbconvert_exporter": "python",
   "pygments_lexer": "ipython2",
   "version": "2.7.13"
  }
 },
 "nbformat": 4,
 "nbformat_minor": 2
}
