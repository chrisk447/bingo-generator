{
 "cells": [
  {
   "cell_type": "code",
   "execution_count": 76,
   "metadata": {
    "collapsed": true
   },
   "outputs": [],
   "source": [
    "import numpy as np\n",
    "import matplotlib.pyplot as plt"
   ]
  },
  {
   "cell_type": "code",
   "execution_count": 2,
   "metadata": {},
   "outputs": [
    {
     "data": {
      "text/plain": [
       "array([14, 12,  7,  5,  8])"
      ]
     },
     "execution_count": 2,
     "metadata": {},
     "output_type": "execute_result"
    }
   ],
   "source": [
    "np.random.choice(range(1,16), 5, replace=False)"
   ]
  },
  {
   "cell_type": "code",
   "execution_count": 3,
   "metadata": {},
   "outputs": [],
   "source": [
    "a = [1, 2, 3]\n",
    "b = [4, 5, 6]"
   ]
  },
  {
   "cell_type": "code",
   "execution_count": 4,
   "metadata": {
    "collapsed": true
   },
   "outputs": [],
   "source": [
    "def b_gen():\n",
    "    bingo = ['L','O','V','E']\n",
    "    board = []\n",
    "    for num, letter in enumerate(bingo):\n",
    "        row = []\n",
    "        row.append(np.random.choice(range(1,13), 4, replace=False) + num*12)\n",
    "        board.append(row)\n",
    "    return np.array(board).transpose().reshape(4,-1)"
   ]
  },
  {
   "cell_type": "code",
   "execution_count": 5,
   "metadata": {},
   "outputs": [
    {
     "data": {
      "text/plain": [
       "array([[ 2, 14, 29, 47],\n",
       "       [ 6, 18, 35, 44],\n",
       "       [ 3, 19, 33, 45],\n",
       "       [ 8, 23, 31, 42]])"
      ]
     },
     "execution_count": 5,
     "metadata": {},
     "output_type": "execute_result"
    }
   ],
   "source": [
    "b_gen()"
   ]
  },
  {
   "cell_type": "code",
   "execution_count": 52,
   "metadata": {
    "collapsed": true
   },
   "outputs": [],
   "source": [
    "def bingo_caller(size=1):\n",
    "    bingo = [0,1,2,3]\n",
    "    random_array = np.random.choice(range(1,49), size=size, replace=False)\n",
    "    for number in random_array:\n",
    "        if number in range(1,13):\n",
    "            letter = bingo[0]\n",
    "        elif number in range(13,25):\n",
    "            letter = bingo[1]\n",
    "        elif number in range(25,37):\n",
    "            letter = bingo[2]\n",
    "        else:\n",
    "            letter = bingo[3]\n",
    "        return letter, number"
   ]
  },
  {
   "cell_type": "code",
   "execution_count": 53,
   "metadata": {},
   "outputs": [
    {
     "data": {
      "text/plain": [
       "(1, 20)"
      ]
     },
     "execution_count": 53,
     "metadata": {},
     "output_type": "execute_result"
    }
   ],
   "source": [
    "bingo_caller()"
   ]
  },
  {
   "cell_type": "code",
   "execution_count": 99,
   "metadata": {},
   "outputs": [],
   "source": [
    "k = 100\n",
    "counts = np.zeros(k) # counter for how many trials until win\n",
    "\n",
    "for i in range(k):\n",
    "    card = b_gen()\n",
    "    empty_card = np.zeros((4,4))\n",
    "    calls = [] # list of all calls\n",
    "\n",
    "    while ~(empty_card.sum(axis=0)==4).any() or ~(empty_card.sum(axis=1)==4).any():\n",
    "        letter, number = bingo_caller()\n",
    "        if number not in calls:\n",
    "            calls.append(number)\n",
    "            counts[i] += 1\n",
    "        if (card[:,letter] == number).any():\n",
    "            x,y = np.where(card == number)\n",
    "            empty_card[x,y] = True"
   ]
  },
  {
   "cell_type": "code",
   "execution_count": 100,
   "metadata": {},
   "outputs": [
    {
     "data": {
      "image/png": "[encoded data removed]",
      "text/plain": [
       "<matplotlib.figure.Figure at 0x96d2160>"
      ]
     },
     "metadata": {},
     "output_type": "display_data"
    }
   ],
   "source": [
    "plt.hist(counts)\n",
    "plt.show()"
   ]
  },
  {
   "cell_type": "code",
   "execution_count": 101,
   "metadata": {},
   "outputs": [
    {
     "name": "stdout",
     "output_type": "stream",
     "text": [
      "33.09 34.0\n"
     ]
    }
   ],
   "source": [
    "print np.mean(counts), np.median(counts)"
   ]
  },
  {
   "cell_type": "code",
   "execution_count": 103,
   "metadata": {},
   "outputs": [
    {
     "data": {
      "text/plain": [
       "array([  0.33,   0.67,   1.01,   1.19,   1.37,   1.6 ,   1.98,   2.4 ,\n",
       "         2.77,   3.07,   3.48,   3.85,   4.1 ,   4.37,   4.73,   5.1 ,\n",
       "         5.34,   5.7 ,   6.08,   6.28,   6.68,   7.1 ,   7.39,   7.68,\n",
       "         8.02,   8.45,   8.77,   9.09,   9.46,   9.83,  10.2 ,  10.51,\n",
       "        10.83,  11.15,  11.46,  11.85,  12.11,  12.5 ,  12.85,  13.23,\n",
       "        13.52,  13.89,  14.23,  14.56,  14.92,  15.2 ,  15.52,  15.76,\n",
       "        16.14,  16.4 ,  16.69,  17.  ,  17.43,  17.71,  18.06,  18.49,\n",
       "        18.9 ,  19.31,  19.63,  20.  ,  20.41,  20.71,  20.89,  21.24,\n",
       "        21.44,  21.81,  22.13,  22.44,  22.79,  23.16,  23.4 ,  23.77,\n",
       "        24.08,  24.41,  24.65,  25.02,  25.4 ,  25.8 ,  26.23,  26.57,\n",
       "        26.88,  27.15,  27.42,  27.76,  28.01,  28.34,  28.7 ,  29.05,\n",
       "        29.32,  29.73,  30.09,  30.41,  30.64,  31.05,  31.45,  31.68,\n",
       "        31.98,  32.33,  32.74,  33.09])"
      ]
     },
     "execution_count": 103,
     "metadata": {},
     "output_type": "execute_result"
    }
   ],
   "source": [
    "np.cumsum(counts)/k"
   ]
  }
 ],
 "metadata": {
  "kernelspec": {
   "display_name": "Python 2",
   "language": "python",
   "name": "python2"
  },
  "language_info": {
   "codemirror_mode": {
    "name": "ipython",
    "version": 2
   },
   "file_extension": ".py",
   "mimetype": "text/x-python",
   "name": "python",
   "nbconvert_exporter": "python",
   "pygments_lexer": "ipython2",
   "version": "2.7.13"
  }
 },
 "nbformat": 4,
 "nbformat_minor": 2
}
